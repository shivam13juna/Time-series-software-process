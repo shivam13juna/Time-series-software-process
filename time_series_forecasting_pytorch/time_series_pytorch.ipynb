{
 "cells": [
  {
   "cell_type": "code",
   "execution_count": 51,
   "metadata": {},
   "outputs": [],
   "source": [
    "import numpy as np\n",
    "import pandas as pd\n",
    "import torch\n",
    "import torch.nn as nn\n",
    "from generate_data import *\n",
    "import matplotlib.pyplot as plt\n",
    "from torch.utils.data import TensorDataset, DataLoader\n",
    "\n",
    "from sklearn.preprocessing import MinMaxScaler\n",
    "\n",
    "#####################\n",
    "# Set parameters\n",
    "#####################\n"
   ]
  },
  {
   "cell_type": "code",
   "execution_count": 52,
   "metadata": {},
   "outputs": [],
   "source": [
    "base = ['vnf label', 'vnf min cpu', 'vnf min mem', 'vnf min sto', 'vnf vm cpu',\n",
    "       'vnf vm mem', 'vnf vm sto', 'vnf pm id', 'vnf cpu usage',\n",
    "       'vnf mem usage', 'vnf sto usage', 'vnf before', 'vnf after',\n",
    "       'vnf label.1', 'vnf min cpu.1', 'vnf min mem.1', 'vnf min sto.1',\n",
    "       'vnf vm cpu.1', 'vnf vm mem.1', 'vnf vm sto.1', 'vnf pm id.1',\n",
    "       'vnf cpu usage.1', 'vnf mem usage.1', 'vnf sto usage.1', 'vnf before.1',\n",
    "       'vnf after.1', 'sla', 'fg id', 'flow traffic', 'flow latency',\n",
    "       'flow bnd usage', 'flow packet loss', 'min cpu affinity',\n",
    "       'min mem affinity', 'min sto affinity', 'conflicts affinity',\n",
    "       'real_affinity', 'static_affinity', 'predicted_affinity',\n",
    "       'prediction_time', 'TF', 'MTT', 'MTT_upper', 'MTT_lower', 'MTTF_R',\n",
    "       'MTTF_EM', 'MTTF_C', 'MTTF_TDDB', 'MTTF_SM', 'MTTFF_TC', 'A', 'AEM',\n",
    "       'AC', 'ATDDB', 'ASM', 'ATC', 'TAA', 'QRED', 'QR', 'PUE', 'DCie', 'cost',\n",
    "       'TIMESTAMP', 'EXTERNAL_TEMP', 'ROOM_TEMP', 'MTTF_IC', 'A_TC', 'Q_DIT',\n",
    "       'TPF', 'AIRFLOW', 'TAAF', 'DeltaT_de', 'QD']\n",
    "       \n",
    "       \n",
    "#Select your global variable among one of above, and place it after base below\n",
    "\n",
    "\n",
    "base = 'vnf cpu usage'\n"
   ]
  },
  {
   "cell_type": "markdown",
   "metadata": {},
   "source": [
    "### Reading input dataset"
   ]
  },
  {
   "cell_type": "code",
   "execution_count": 53,
   "metadata": {},
   "outputs": [],
   "source": [
    "fgs = pd.read_csv('../fgs.csv')"
   ]
  },
  {
   "cell_type": "code",
   "execution_count": 54,
   "metadata": {},
   "outputs": [
    {
     "data": {
      "text/html": [
       "<div>\n",
       "<style scoped>\n",
       "    .dataframe tbody tr th:only-of-type {\n",
       "        vertical-align: middle;\n",
       "    }\n",
       "\n",
       "    .dataframe tbody tr th {\n",
       "        vertical-align: top;\n",
       "    }\n",
       "\n",
       "    .dataframe thead th {\n",
       "        text-align: right;\n",
       "    }\n",
       "</style>\n",
       "<table border=\"1\" class=\"dataframe\">\n",
       "  <thead>\n",
       "    <tr style=\"text-align: right;\">\n",
       "      <th></th>\n",
       "      <th></th>\n",
       "      <th></th>\n",
       "      <th></th>\n",
       "      <th>4963594775</th>\n",
       "      <th>1</th>\n",
       "      <th>2</th>\n",
       "    </tr>\n",
       "  </thead>\n",
       "  <tbody>\n",
       "    <tr>\n",
       "      <th>proxy.9.5698</th>\n",
       "      <th>traffic counter.7.5664</th>\n",
       "      <th>0.971442</th>\n",
       "      <th>82.243099</th>\n",
       "      <td>1.794354</td>\n",
       "      <td>9.341767</td>\n",
       "      <td>100.0</td>\n",
       "    </tr>\n",
       "    <tr>\n",
       "      <th>5402488769</th>\n",
       "      <th>5</th>\n",
       "      <th>1.000000</th>\n",
       "      <th>NaN</th>\n",
       "      <td>NaN</td>\n",
       "      <td>NaN</td>\n",
       "      <td>NaN</td>\n",
       "    </tr>\n",
       "    <tr>\n",
       "      <th>traffic counter.7.7413</th>\n",
       "      <th>proxy.9.11244</th>\n",
       "      <th>4.060322</th>\n",
       "      <th>119.086081</th>\n",
       "      <td>16.548350</td>\n",
       "      <td>8.474562</td>\n",
       "      <td>150.0</td>\n",
       "    </tr>\n",
       "    <tr>\n",
       "      <th>proxy.9.11244</th>\n",
       "      <th>proxy.9.2362</th>\n",
       "      <th>0.268318</th>\n",
       "      <th>23.865256</th>\n",
       "      <td>11.573841</td>\n",
       "      <td>9.248256</td>\n",
       "      <td>150.0</td>\n",
       "    </tr>\n",
       "    <tr>\n",
       "      <th>proxy.9.2362</th>\n",
       "      <th>traffic counter.7.9524</th>\n",
       "      <th>2.961259</th>\n",
       "      <th>80.083566</th>\n",
       "      <td>18.280812</td>\n",
       "      <td>4.783467</td>\n",
       "      <td>150.0</td>\n",
       "    </tr>\n",
       "  </tbody>\n",
       "</table>\n",
       "</div>"
      ],
      "text/plain": [
       "                                                                   4963594775  \\\n",
       "proxy.9.5698           traffic counter.7.5664 0.971442 82.243099     1.794354   \n",
       "5402488769             5                      1.000000 NaN                NaN   \n",
       "traffic counter.7.7413 proxy.9.11244          4.060322 119.086081   16.548350   \n",
       "proxy.9.11244          proxy.9.2362           0.268318 23.865256    11.573841   \n",
       "proxy.9.2362           traffic counter.7.9524 2.961259 80.083566    18.280812   \n",
       "\n",
       "                                                                          1  \\\n",
       "proxy.9.5698           traffic counter.7.5664 0.971442 82.243099   9.341767   \n",
       "5402488769             5                      1.000000 NaN              NaN   \n",
       "traffic counter.7.7413 proxy.9.11244          4.060322 119.086081  8.474562   \n",
       "proxy.9.11244          proxy.9.2362           0.268318 23.865256   9.248256   \n",
       "proxy.9.2362           traffic counter.7.9524 2.961259 80.083566   4.783467   \n",
       "\n",
       "                                                                       2  \n",
       "proxy.9.5698           traffic counter.7.5664 0.971442 82.243099   100.0  \n",
       "5402488769             5                      1.000000 NaN           NaN  \n",
       "traffic counter.7.7413 proxy.9.11244          4.060322 119.086081  150.0  \n",
       "proxy.9.11244          proxy.9.2362           0.268318 23.865256   150.0  \n",
       "proxy.9.2362           traffic counter.7.9524 2.961259 80.083566   150.0  "
      ]
     },
     "execution_count": 54,
     "metadata": {},
     "output_type": "execute_result"
    }
   ],
   "source": [
    "fgs.head()"
   ]
  },
  {
   "cell_type": "code",
   "execution_count": 55,
   "metadata": {},
   "outputs": [],
   "source": [
    "vns = pd.read_csv('../vnfs.csv', header=None)"
   ]
  },
  {
   "cell_type": "code",
   "execution_count": 56,
   "metadata": {},
   "outputs": [],
   "source": [
    "#Just separating our input dataset, for better understanding of dataset\n",
    "vnf_id = np.array(vns[vns.columns[0]])\n",
    "vnf_type = np.array(vns[vns.columns[1]])\n",
    "vnf_scheduling = np.array(vns[vns.columns[2]])\n",
    "vnf_pm = np.array(vns[vns.columns[3]])\n",
    "vnf_fg = np.array(vns[vns.columns[4]])\n",
    "flavor_data = np.array(vns[vns.columns[5:8]])\n",
    "vm_data = np.array(vns[vns.columns[8:11]])\n",
    "usage_data = np.array(vns[vns.columns[11:15]])"
   ]
  },
  {
   "cell_type": "code",
   "execution_count": 57,
   "metadata": {},
   "outputs": [
    {
     "data": {
      "text/plain": [
       "(12322, 3)"
      ]
     },
     "execution_count": 57,
     "metadata": {},
     "output_type": "execute_result"
    }
   ],
   "source": [
    "vm_data.shape"
   ]
  },
  {
   "cell_type": "code",
   "execution_count": 58,
   "metadata": {},
   "outputs": [],
   "source": [
    "output = pd.read_csv('../new_results_out.csv', sep =';')# Reading target dataset\n",
    "output.drop('Unnamed: 0',axis = 1, inplace=True)"
   ]
  },
  {
   "cell_type": "code",
   "execution_count": 59,
   "metadata": {},
   "outputs": [
    {
     "data": {
      "text/html": [
       "<div>\n",
       "<style scoped>\n",
       "    .dataframe tbody tr th:only-of-type {\n",
       "        vertical-align: middle;\n",
       "    }\n",
       "\n",
       "    .dataframe tbody tr th {\n",
       "        vertical-align: top;\n",
       "    }\n",
       "\n",
       "    .dataframe thead th {\n",
       "        text-align: right;\n",
       "    }\n",
       "</style>\n",
       "<table border=\"1\" class=\"dataframe\">\n",
       "  <thead>\n",
       "    <tr style=\"text-align: right;\">\n",
       "      <th></th>\n",
       "      <th>vnf label</th>\n",
       "      <th>vnf min cpu</th>\n",
       "      <th>vnf min mem</th>\n",
       "      <th>vnf min sto</th>\n",
       "      <th>vnf vm cpu</th>\n",
       "      <th>vnf vm mem</th>\n",
       "      <th>vnf vm sto</th>\n",
       "      <th>vnf pm id</th>\n",
       "      <th>vnf cpu usage</th>\n",
       "      <th>vnf mem usage</th>\n",
       "      <th>...</th>\n",
       "      <th>EXTERNAL_TEMP</th>\n",
       "      <th>ROOM_TEMP</th>\n",
       "      <th>MTTF_IC</th>\n",
       "      <th>A_TC</th>\n",
       "      <th>Q_DIT</th>\n",
       "      <th>TPF</th>\n",
       "      <th>AIRFLOW</th>\n",
       "      <th>TAAF</th>\n",
       "      <th>DeltaT_de</th>\n",
       "      <th>QD</th>\n",
       "    </tr>\n",
       "  </thead>\n",
       "  <tbody>\n",
       "    <tr>\n",
       "      <th>0</th>\n",
       "      <td>dpi.2.136144</td>\n",
       "      <td>0.035914</td>\n",
       "      <td>0.226393</td>\n",
       "      <td>0.001757</td>\n",
       "      <td>0.06250</td>\n",
       "      <td>0.12720</td>\n",
       "      <td>0.001930</td>\n",
       "      <td>257345416</td>\n",
       "      <td>71.88000</td>\n",
       "      <td>1.75780</td>\n",
       "      <td>...</td>\n",
       "      <td>15</td>\n",
       "      <td>23</td>\n",
       "      <td>2435.249666</td>\n",
       "      <td>0.996726</td>\n",
       "      <td>1.839678</td>\n",
       "      <td>14.999377</td>\n",
       "      <td>0.131858</td>\n",
       "      <td>0.872117</td>\n",
       "      <td>6.132259</td>\n",
       "      <td>6.132259</td>\n",
       "    </tr>\n",
       "    <tr>\n",
       "      <th>1</th>\n",
       "      <td>traffic counter.7.40368</td>\n",
       "      <td>0.063818</td>\n",
       "      <td>0.017674</td>\n",
       "      <td>0.000223</td>\n",
       "      <td>0.06189</td>\n",
       "      <td>0.03821</td>\n",
       "      <td>0.000386</td>\n",
       "      <td>3488796635</td>\n",
       "      <td>3.51600</td>\n",
       "      <td>6.34800</td>\n",
       "      <td>...</td>\n",
       "      <td>15</td>\n",
       "      <td>24</td>\n",
       "      <td>49.077683</td>\n",
       "      <td>0.859840</td>\n",
       "      <td>1.801941</td>\n",
       "      <td>14.999402</td>\n",
       "      <td>0.142946</td>\n",
       "      <td>0.768427</td>\n",
       "      <td>6.006469</td>\n",
       "      <td>6.006469</td>\n",
       "    </tr>\n",
       "    <tr>\n",
       "      <th>2</th>\n",
       "      <td>proxy.9.13456</td>\n",
       "      <td>0.018672</td>\n",
       "      <td>0.020912</td>\n",
       "      <td>0.000006</td>\n",
       "      <td>0.01250</td>\n",
       "      <td>0.01590</td>\n",
       "      <td>0.000404</td>\n",
       "      <td>4820294844</td>\n",
       "      <td>0.18044</td>\n",
       "      <td>0.13352</td>\n",
       "      <td>...</td>\n",
       "      <td>55</td>\n",
       "      <td>25</td>\n",
       "      <td>82.372536</td>\n",
       "      <td>0.911478</td>\n",
       "      <td>1.800100</td>\n",
       "      <td>54.999420</td>\n",
       "      <td>0.152569</td>\n",
       "      <td>0.757640</td>\n",
       "      <td>6.000332</td>\n",
       "      <td>6.000332</td>\n",
       "    </tr>\n",
       "    <tr>\n",
       "      <th>3</th>\n",
       "      <td>firewall.3.36933</td>\n",
       "      <td>0.140469</td>\n",
       "      <td>0.021706</td>\n",
       "      <td>0.000068</td>\n",
       "      <td>0.09375</td>\n",
       "      <td>0.03198</td>\n",
       "      <td>0.000070</td>\n",
       "      <td>3550430599</td>\n",
       "      <td>26.46000</td>\n",
       "      <td>6.44600</td>\n",
       "      <td>...</td>\n",
       "      <td>40</td>\n",
       "      <td>23</td>\n",
       "      <td>0.044220</td>\n",
       "      <td>0.005497</td>\n",
       "      <td>1.814606</td>\n",
       "      <td>39.999481</td>\n",
       "      <td>0.132889</td>\n",
       "      <td>0.807089</td>\n",
       "      <td>6.048686</td>\n",
       "      <td>6.048686</td>\n",
       "    </tr>\n",
       "    <tr>\n",
       "      <th>4</th>\n",
       "      <td>dpi.2.92594</td>\n",
       "      <td>0.015708</td>\n",
       "      <td>0.050654</td>\n",
       "      <td>0.000810</td>\n",
       "      <td>0.06250</td>\n",
       "      <td>0.08569</td>\n",
       "      <td>0.000926</td>\n",
       "      <td>4820072706</td>\n",
       "      <td>41.74000</td>\n",
       "      <td>14.42800</td>\n",
       "      <td>...</td>\n",
       "      <td>21</td>\n",
       "      <td>29</td>\n",
       "      <td>0.011200</td>\n",
       "      <td>0.001398</td>\n",
       "      <td>1.823040</td>\n",
       "      <td>20.999427</td>\n",
       "      <td>0.189031</td>\n",
       "      <td>0.790021</td>\n",
       "      <td>6.076802</td>\n",
       "      <td>6.076802</td>\n",
       "    </tr>\n",
       "  </tbody>\n",
       "</table>\n",
       "<p>5 rows × 73 columns</p>\n",
       "</div>"
      ],
      "text/plain": [
       "                 vnf label  vnf min cpu  vnf min mem  vnf min sto  vnf vm cpu  \\\n",
       "0             dpi.2.136144     0.035914     0.226393     0.001757     0.06250   \n",
       "1  traffic counter.7.40368     0.063818     0.017674     0.000223     0.06189   \n",
       "2            proxy.9.13456     0.018672     0.020912     0.000006     0.01250   \n",
       "3         firewall.3.36933     0.140469     0.021706     0.000068     0.09375   \n",
       "4              dpi.2.92594     0.015708     0.050654     0.000810     0.06250   \n",
       "\n",
       "   vnf vm mem  vnf vm sto   vnf pm id  vnf cpu usage  vnf mem usage  ...  \\\n",
       "0     0.12720    0.001930   257345416       71.88000        1.75780  ...   \n",
       "1     0.03821    0.000386  3488796635        3.51600        6.34800  ...   \n",
       "2     0.01590    0.000404  4820294844        0.18044        0.13352  ...   \n",
       "3     0.03198    0.000070  3550430599       26.46000        6.44600  ...   \n",
       "4     0.08569    0.000926  4820072706       41.74000       14.42800  ...   \n",
       "\n",
       "   EXTERNAL_TEMP ROOM_TEMP      MTTF_IC      A_TC     Q_DIT        TPF  \\\n",
       "0             15        23  2435.249666  0.996726  1.839678  14.999377   \n",
       "1             15        24    49.077683  0.859840  1.801941  14.999402   \n",
       "2             55        25    82.372536  0.911478  1.800100  54.999420   \n",
       "3             40        23     0.044220  0.005497  1.814606  39.999481   \n",
       "4             21        29     0.011200  0.001398  1.823040  20.999427   \n",
       "\n",
       "    AIRFLOW      TAAF  DeltaT_de        QD  \n",
       "0  0.131858  0.872117   6.132259  6.132259  \n",
       "1  0.142946  0.768427   6.006469  6.006469  \n",
       "2  0.152569  0.757640   6.000332  6.000332  \n",
       "3  0.132889  0.807089   6.048686  6.048686  \n",
       "4  0.189031  0.790021   6.076802  6.076802  \n",
       "\n",
       "[5 rows x 73 columns]"
      ]
     },
     "execution_count": 59,
     "metadata": {},
     "output_type": "execute_result"
    }
   ],
   "source": [
    "output.head()"
   ]
  },
  {
   "cell_type": "code",
   "execution_count": 60,
   "metadata": {},
   "outputs": [
    {
     "data": {
      "text/plain": [
       "Index(['vnf label', 'vnf min cpu', 'vnf min mem', 'vnf min sto', 'vnf vm cpu',\n",
       "       'vnf vm mem', 'vnf vm sto', 'vnf pm id', 'vnf cpu usage',\n",
       "       'vnf mem usage', 'vnf sto usage', 'vnf before', 'vnf after',\n",
       "       'vnf label.1', 'vnf min cpu.1', 'vnf min mem.1', 'vnf min sto.1',\n",
       "       'vnf vm cpu.1', 'vnf vm mem.1', 'vnf vm sto.1', 'vnf pm id.1',\n",
       "       'vnf cpu usage.1', 'vnf mem usage.1', 'vnf sto usage.1', 'vnf before.1',\n",
       "       'vnf after.1', 'sla', 'fg id', 'flow traffic', 'flow latency',\n",
       "       'flow bnd usage', 'flow packet loss', 'min cpu affinity',\n",
       "       'min mem affinity', 'min sto affinity', 'conflicts affinity',\n",
       "       'real_affinity', 'static_affinity', 'predicted_affinity',\n",
       "       'prediction_time', 'TF', 'MTT', 'MTT_upper', 'MTT_lower', 'MTTF_R',\n",
       "       'MTTF_EM', 'MTTF_C', 'MTTF_TDDB', 'MTTF_SM', 'MTTFF_TC', 'A', 'AEM',\n",
       "       'AC', 'ATDDB', 'ASM', 'ATC', 'TAA', 'QRED', 'QR', 'PUE', 'DCie', 'cost',\n",
       "       'TIMESTAMP', 'EXTERNAL_TEMP', 'ROOM_TEMP', 'MTTF_IC', 'A_TC', 'Q_DIT',\n",
       "       'TPF', 'AIRFLOW', 'TAAF', 'DeltaT_de', 'QD'],\n",
       "      dtype='object')"
      ]
     },
     "execution_count": 60,
     "metadata": {},
     "output_type": "execute_result"
    }
   ],
   "source": [
    "output.columns"
   ]
  },
  {
   "cell_type": "code",
   "execution_count": 61,
   "metadata": {},
   "outputs": [
    {
     "data": {
      "text/plain": [
       "(195379,)"
      ]
     },
     "execution_count": 61,
     "metadata": {},
     "output_type": "execute_result"
    }
   ],
   "source": [
    "output['vnf cpu usage'].shape"
   ]
  },
  {
   "cell_type": "code",
   "execution_count": 62,
   "metadata": {},
   "outputs": [],
   "source": [
    "output = output[:12322] #Doing this as we discussed, our input datset has only 12322 records\n",
    "output = output[base]"
   ]
  },
  {
   "cell_type": "code",
   "execution_count": 63,
   "metadata": {},
   "outputs": [
    {
     "name": "stdout",
     "output_type": "stream",
     "text": [
      "(12322,)\n",
      "(12322,)\n",
      "(12322,)\n",
      "(12322,)\n",
      "(12322,)\n",
      "(12322, 3)\n",
      "(12322, 3)\n",
      "(12322, 4)\n"
     ]
    }
   ],
   "source": [
    "thelist = [vnf_id, vnf_type, vnf_scheduling, vnf_pm, vnf_fg, flavor_data, vm_data, usage_data] #Just pre-processing with input\n",
    "for i in range(len(thelist)):\n",
    "    print(thelist[i].shape)\n",
    "    if len(thelist[i].shape) == 1:\n",
    "        thelist[i] = np.reshape(thelist[i], (-1, 1))\n"
   ]
  },
  {
   "cell_type": "code",
   "execution_count": 64,
   "metadata": {},
   "outputs": [],
   "source": [
    "vnf_id = np.reshape(vnf_id, (-1, 1))\n",
    "vnf_type = np.reshape(vnf_type, (-1, 1))\n",
    "vnf_scheduling = np.reshape(vnf_scheduling, (-1, 1))\n",
    "vnf_pm = np.reshape(vnf_pm, (-1, 1))\n",
    "vnf_fg = np.reshape(vnf_fg, (-1, 1))"
   ]
  },
  {
   "cell_type": "code",
   "execution_count": 65,
   "metadata": {},
   "outputs": [
    {
     "data": {
      "text/plain": [
       "(12322, 1)"
      ]
     },
     "execution_count": 65,
     "metadata": {},
     "output_type": "execute_result"
    }
   ],
   "source": [
    "vnf_id.shape"
   ]
  },
  {
   "cell_type": "code",
   "execution_count": 66,
   "metadata": {},
   "outputs": [],
   "source": [
    "inputt = np.concatenate((vnf_id, vnf_type, vnf_scheduling, vnf_pm, vnf_fg, flavor_data, vm_data, usage_data), axis=1) #concatenating them again, for features"
   ]
  },
  {
   "cell_type": "code",
   "execution_count": 67,
   "metadata": {},
   "outputs": [],
   "source": [
    "min_max = MinMaxScaler()\n",
    "inputt_scaled = min_max.fit_transform(inputt)"
   ]
  },
  {
   "cell_type": "code",
   "execution_count": 68,
   "metadata": {},
   "outputs": [
    {
     "data": {
      "text/plain": [
       "(12322, 15)"
      ]
     },
     "execution_count": 68,
     "metadata": {},
     "output_type": "execute_result"
    }
   ],
   "source": [
    "inputt.shape"
   ]
  },
  {
   "cell_type": "code",
   "execution_count": 69,
   "metadata": {},
   "outputs": [],
   "source": [
    "trainx, testx, trainy, testy = train_test_split(inputt, output, test_size=0.18)"
   ]
  },
  {
   "cell_type": "code",
   "execution_count": 70,
   "metadata": {},
   "outputs": [
    {
     "name": "stdout",
     "output_type": "stream",
     "text": [
      "Trainx shape (10104, 15)\n",
      "Trainy shape (10104,)\n",
      "Testx shape (2218, 15)\n",
      "Testy shape (2218,)\n"
     ]
    }
   ],
   "source": [
    "print(\"Trainx shape\", trainx.shape)\n",
    "print(\"Trainy shape\", trainy.shape)\n",
    "print(\"Testx shape\", testx.shape)\n",
    "print(\"Testy shape\", testy.shape)"
   ]
  },
  {
   "cell_type": "code",
   "execution_count": 71,
   "metadata": {},
   "outputs": [],
   "source": [
    "trainx = trainx[:10100]\n",
    "trainy = trainy[:10100]\n",
    "testx = testx[:2210]\n",
    "testy = testy[:2210]"
   ]
  },
  {
   "cell_type": "code",
   "execution_count": 72,
   "metadata": {},
   "outputs": [
    {
     "data": {
      "text/plain": [
       "10"
      ]
     },
     "execution_count": 72,
     "metadata": {},
     "output_type": "execute_result"
    }
   ],
   "source": [
    "np.gcd(10100, 2210)"
   ]
  },
  {
   "cell_type": "code",
   "execution_count": 73,
   "metadata": {},
   "outputs": [],
   "source": [
    "trainx = np.array(trainx)\n",
    "trainy = np.array(trainy)\n",
    "testx = np.array(testx)\n",
    "testy = np.array(testy)"
   ]
  },
  {
   "cell_type": "code",
   "execution_count": 74,
   "metadata": {},
   "outputs": [],
   "source": [
    "#Reshaping data for LSTM\n",
    "\n",
    "trainx = trainx.reshape((-1, 10, 15)) #Dividing them as it should be as per the shape of LSTM, batch_size, timtsteps, features\n",
    "trainy = trainy.reshape((-1, 10))\n",
    "testx = testx.reshape((-1, 10, 15))\n",
    "testy = testy.reshape((-1, 10))"
   ]
  },
  {
   "cell_type": "code",
   "execution_count": 75,
   "metadata": {},
   "outputs": [
    {
     "data": {
      "text/plain": [
       "(1010, 10, 15)"
      ]
     },
     "execution_count": 75,
     "metadata": {},
     "output_type": "execute_result"
    }
   ],
   "source": [
    "trainx.shape"
   ]
  },
  {
   "cell_type": "code",
   "execution_count": 76,
   "metadata": {},
   "outputs": [],
   "source": [
    "# Data params\n",
    "noise_var = 0\n",
    "num_datapoints = 100\n",
    "test_size = 0.2\n",
    "num_train = int((1-test_size) * num_datapoints)\n",
    "\n",
    "# Network params\n",
    "\n",
    "# size of hidden layers\n",
    "h1 = 32\n",
    "output_dim = 10\n",
    "num_layers = 2\n",
    "learning_rate = 1e-3\n",
    "num_epochs = 500\n",
    "dtype = torch.float"
   ]
  },
  {
   "cell_type": "code",
   "execution_count": 77,
   "metadata": {},
   "outputs": [
    {
     "name": "stdout",
     "output_type": "stream",
     "text": [
      "Sample input size of one instance from iter is:  torch.Size([100, 10, 15])\n",
      "Sample target size of that same one instance from iter is torch.Size([100, 10])\n"
     ]
    }
   ],
   "source": [
    "#Creating Tensor Datasets\n",
    "train_data = TensorDataset(torch.from_numpy(trainx).double(), torch.from_numpy(trainy).float())\n",
    "test_data = TensorDataset(torch.from_numpy(testx).double(), torch.from_numpy(testy).float())\n",
    "\n",
    "#Now creating Data Loaders\n",
    "batch_size = 100\n",
    "\n",
    "train_loader = DataLoader(train_data, shuffle = True, batch_size = batch_size)\n",
    "test_loader = DataLoader(test_data, shuffle = True, batch_size = batch_size)\n",
    "\n",
    "dataiter = iter(train_loader)\n",
    "\n",
    "sample_x, sample_y = dataiter.next()\n",
    "\n",
    "print(\"Sample input size of one instance from iter is: \", sample_x.size()) #Batch size, Sequence Length, Feature Dimension\n",
    "print(\"Sample target size of that same one instance from iter is\", sample_y.size())"
   ]
  },
  {
   "cell_type": "code",
   "execution_count": 78,
   "metadata": {},
   "outputs": [],
   "source": [
    "class bonhwa_lstm(nn.Module):\n",
    "    def __init__(self, embedding_dim, no_units, output_dim, n_layers):\n",
    "        super(bonhwa_lstm, self).__init__()\n",
    "        self.no_units = no_units\n",
    "        self.n_layers = n_layers\n",
    "        self.lstm = nn.LSTM(embedding_dim, no_units, n_layers, batch_first = True, bidirectional = True)\n",
    "        self.linear = nn.Linear(no_units * 2, output_dim)\n",
    "#         self.soft = nn.Softmax(dim = 1)\n",
    "        \n",
    "    def forward(self, x, hidden):\n",
    "        hidden = self.init_hidden(x.size(0))\n",
    "        lstmout, hidden = self.lstm(x.float(), hidden)\n",
    "#         lstmout = lstmout.contiguous().view(-1, self.no_units)\n",
    "\n",
    "        output = self.linear(lstmout)\n",
    "        \n",
    "#         output = self.soft(output)\n",
    "        return output[:, -1, :], hidden\n",
    "    \n",
    "    def init_hidden(self, batch_size):\n",
    "        \n",
    "        weight = next(self.parameters()).data\n",
    "        hidden = (weight.new(self.n_layers * 2, batch_size, self.no_units).zero_().cuda(),\n",
    "                      weight.new(self.n_layers * 2, batch_size, self.no_units).zero_().cuda())\n",
    "        \n",
    "        return hidden"
   ]
  },
  {
   "cell_type": "code",
   "execution_count": 79,
   "metadata": {},
   "outputs": [],
   "source": [
    "net = bonhwa_lstm(embedding_dim = 15, output_dim = 10, no_units = 524, n_layers = 2)\n"
   ]
  },
  {
   "cell_type": "code",
   "execution_count": 108,
   "metadata": {},
   "outputs": [
    {
     "name": "stdout",
     "output_type": "stream",
     "text": [
      "Epoch: 1/1000 ... Step: 0... Loss: 520.4373...\n",
      "Epoch: 6/1000 ... Step: 0... Loss: 713.8788...\n",
      "Epoch: 11/1000 ... Step: 0... Loss: 597.9655...\n",
      "Epoch: 16/1000 ... Step: 0... Loss: 568.4521...\n",
      "Epoch: 21/1000 ... Step: 0... Loss: 618.7610...\n",
      "Epoch: 26/1000 ... Step: 0... Loss: 625.2312...\n",
      "Epoch: 31/1000 ... Step: 0... Loss: 635.9028...\n",
      "Epoch: 36/1000 ... Step: 0... Loss: 590.7043...\n",
      "Epoch: 41/1000 ... Step: 0... Loss: 547.3220...\n",
      "Epoch: 46/1000 ... Step: 0... Loss: 530.7495...\n",
      "Epoch: 51/1000 ... Step: 0... Loss: 578.2459...\n",
      "Epoch: 56/1000 ... Step: 0... Loss: 573.8039...\n",
      "Epoch: 61/1000 ... Step: 0... Loss: 579.2821...\n",
      "Epoch: 66/1000 ... Step: 0... Loss: 585.0622...\n",
      "Epoch: 71/1000 ... Step: 0... Loss: 554.2413...\n",
      "Epoch: 76/1000 ... Step: 0... Loss: 539.2403...\n",
      "Epoch: 81/1000 ... Step: 0... Loss: 532.0670...\n",
      "Epoch: 86/1000 ... Step: 0... Loss: 548.3129...\n",
      "Epoch: 91/1000 ... Step: 0... Loss: 600.9075...\n",
      "Epoch: 96/1000 ... Step: 0... Loss: 545.2194...\n",
      "Epoch: 101/1000 ... Step: 0... Loss: 492.7582...\n",
      "Epoch: 106/1000 ... Step: 0... Loss: 588.3361...\n",
      "Epoch: 111/1000 ... Step: 0... Loss: 635.2259...\n",
      "Epoch: 116/1000 ... Step: 0... Loss: 596.4836...\n",
      "Epoch: 121/1000 ... Step: 0... Loss: 565.0012...\n",
      "Epoch: 126/1000 ... Step: 0... Loss: 610.1345...\n",
      "Epoch: 131/1000 ... Step: 0... Loss: 551.8785...\n",
      "Epoch: 136/1000 ... Step: 0... Loss: 636.9296...\n",
      "Epoch: 141/1000 ... Step: 0... Loss: 542.9852...\n",
      "Epoch: 146/1000 ... Step: 0... Loss: 489.1599...\n",
      "Epoch: 151/1000 ... Step: 0... Loss: 448.4147...\n",
      "Epoch: 156/1000 ... Step: 0... Loss: 647.6065...\n",
      "Epoch: 161/1000 ... Step: 0... Loss: 581.6206...\n",
      "Epoch: 166/1000 ... Step: 0... Loss: 574.9033...\n",
      "Epoch: 171/1000 ... Step: 0... Loss: 515.5215...\n",
      "Epoch: 176/1000 ... Step: 0... Loss: 446.8367...\n",
      "Epoch: 181/1000 ... Step: 0... Loss: 636.8095...\n",
      "Epoch: 186/1000 ... Step: 0... Loss: 557.8302...\n",
      "Epoch: 191/1000 ... Step: 0... Loss: 483.3362...\n",
      "Epoch: 196/1000 ... Step: 0... Loss: 535.2073...\n",
      "Epoch: 201/1000 ... Step: 0... Loss: 509.7610...\n",
      "Epoch: 206/1000 ... Step: 0... Loss: 520.5794...\n",
      "Epoch: 211/1000 ... Step: 0... Loss: 518.3747...\n",
      "Epoch: 216/1000 ... Step: 0... Loss: 442.9037...\n",
      "Epoch: 221/1000 ... Step: 0... Loss: 451.5267...\n",
      "Epoch: 226/1000 ... Step: 0... Loss: 464.9974...\n",
      "Epoch: 231/1000 ... Step: 0... Loss: 527.1089...\n",
      "Epoch: 236/1000 ... Step: 0... Loss: 520.3079...\n",
      "Epoch: 241/1000 ... Step: 0... Loss: 473.2537...\n",
      "Epoch: 246/1000 ... Step: 0... Loss: 460.2534...\n",
      "Epoch: 251/1000 ... Step: 0... Loss: 459.4434...\n",
      "Epoch: 256/1000 ... Step: 0... Loss: 461.9816...\n",
      "Epoch: 261/1000 ... Step: 0... Loss: 434.4376...\n",
      "Epoch: 266/1000 ... Step: 0... Loss: 434.8326...\n",
      "Epoch: 271/1000 ... Step: 0... Loss: 432.8463...\n",
      "Epoch: 276/1000 ... Step: 0... Loss: 462.2754...\n",
      "Epoch: 281/1000 ... Step: 0... Loss: 449.4803...\n",
      "Epoch: 286/1000 ... Step: 0... Loss: 511.4601...\n",
      "Epoch: 291/1000 ... Step: 0... Loss: 497.4771...\n",
      "Epoch: 296/1000 ... Step: 0... Loss: 469.3857...\n",
      "Epoch: 301/1000 ... Step: 0... Loss: 551.7822...\n",
      "Epoch: 306/1000 ... Step: 0... Loss: 575.4448...\n",
      "Epoch: 311/1000 ... Step: 0... Loss: 514.2996...\n",
      "Epoch: 316/1000 ... Step: 0... Loss: 418.7445...\n",
      "Epoch: 321/1000 ... Step: 0... Loss: 489.3783...\n",
      "Epoch: 326/1000 ... Step: 0... Loss: 489.7377...\n",
      "Epoch: 331/1000 ... Step: 0... Loss: 503.0734...\n",
      "Epoch: 336/1000 ... Step: 0... Loss: 445.7756...\n",
      "Epoch: 341/1000 ... Step: 0... Loss: 490.0049...\n",
      "Epoch: 346/1000 ... Step: 0... Loss: 426.9272...\n",
      "Epoch: 351/1000 ... Step: 0... Loss: 468.0466...\n",
      "Epoch: 356/1000 ... Step: 0... Loss: 405.6787...\n",
      "Epoch: 361/1000 ... Step: 0... Loss: 448.2697...\n",
      "Epoch: 366/1000 ... Step: 0... Loss: 430.4836...\n",
      "Epoch: 371/1000 ... Step: 0... Loss: 423.3327...\n",
      "Epoch: 376/1000 ... Step: 0... Loss: 460.8337...\n",
      "Epoch: 381/1000 ... Step: 0... Loss: 496.1145...\n",
      "Epoch: 386/1000 ... Step: 0... Loss: 458.9752...\n",
      "Epoch: 391/1000 ... Step: 0... Loss: 458.3821...\n",
      "Epoch: 396/1000 ... Step: 0... Loss: 495.7265...\n",
      "Epoch: 401/1000 ... Step: 0... Loss: 448.9129...\n",
      "Epoch: 406/1000 ... Step: 0... Loss: 441.7793...\n",
      "Epoch: 411/1000 ... Step: 0... Loss: 442.8192...\n",
      "Epoch: 416/1000 ... Step: 0... Loss: 411.9188...\n",
      "Epoch: 421/1000 ... Step: 0... Loss: 396.5240...\n",
      "Epoch: 426/1000 ... Step: 0... Loss: 450.4147...\n",
      "Epoch: 431/1000 ... Step: 0... Loss: 448.4729...\n",
      "Epoch: 436/1000 ... Step: 0... Loss: 404.8210...\n",
      "Epoch: 441/1000 ... Step: 0... Loss: 417.6821...\n",
      "Epoch: 446/1000 ... Step: 0... Loss: 437.4593...\n",
      "Epoch: 451/1000 ... Step: 0... Loss: 535.8486...\n",
      "Epoch: 456/1000 ... Step: 0... Loss: 435.2001...\n",
      "Epoch: 461/1000 ... Step: 0... Loss: 447.2878...\n",
      "Epoch: 466/1000 ... Step: 0... Loss: 482.2463...\n",
      "Epoch: 471/1000 ... Step: 0... Loss: 386.7542...\n",
      "Epoch: 476/1000 ... Step: 0... Loss: 416.8275...\n",
      "Epoch: 481/1000 ... Step: 0... Loss: 495.9210...\n",
      "Epoch: 486/1000 ... Step: 0... Loss: 449.4855...\n",
      "Epoch: 491/1000 ... Step: 0... Loss: 393.8938...\n",
      "Epoch: 496/1000 ... Step: 0... Loss: 415.6479...\n",
      "Epoch: 501/1000 ... Step: 0... Loss: 450.8830...\n",
      "Epoch: 506/1000 ... Step: 0... Loss: 422.4180...\n",
      "Epoch: 511/1000 ... Step: 0... Loss: 406.0875...\n",
      "Epoch: 516/1000 ... Step: 0... Loss: 383.1268...\n",
      "Epoch: 521/1000 ... Step: 0... Loss: 446.0886...\n",
      "Epoch: 526/1000 ... Step: 0... Loss: 440.3840...\n",
      "Epoch: 531/1000 ... Step: 0... Loss: 435.9999...\n",
      "Epoch: 536/1000 ... Step: 0... Loss: 445.6324...\n",
      "Epoch: 541/1000 ... Step: 0... Loss: 375.7978...\n",
      "Epoch: 546/1000 ... Step: 0... Loss: 366.9810...\n",
      "Epoch: 551/1000 ... Step: 0... Loss: 390.3323...\n",
      "Epoch: 556/1000 ... Step: 0... Loss: 421.4235...\n",
      "Epoch: 561/1000 ... Step: 0... Loss: 395.8064...\n",
      "Epoch: 566/1000 ... Step: 0... Loss: 437.9157...\n",
      "Epoch: 571/1000 ... Step: 0... Loss: 376.2406...\n",
      "Epoch: 576/1000 ... Step: 0... Loss: 391.4263...\n",
      "Epoch: 581/1000 ... Step: 0... Loss: 427.6096...\n",
      "Epoch: 586/1000 ... Step: 0... Loss: 371.1956...\n",
      "Epoch: 591/1000 ... Step: 0... Loss: 422.5706...\n",
      "Epoch: 596/1000 ... Step: 0... Loss: 367.8438...\n",
      "Epoch: 601/1000 ... Step: 0... Loss: 455.8849...\n",
      "Epoch: 606/1000 ... Step: 0... Loss: 397.6805...\n",
      "Epoch: 611/1000 ... Step: 0... Loss: 418.0580...\n",
      "Epoch: 616/1000 ... Step: 0... Loss: 410.2328...\n",
      "Epoch: 621/1000 ... Step: 0... Loss: 396.8785...\n",
      "Epoch: 626/1000 ... Step: 0... Loss: 438.3154...\n",
      "Epoch: 631/1000 ... Step: 0... Loss: 360.7719...\n",
      "Epoch: 636/1000 ... Step: 0... Loss: 333.1340...\n",
      "Epoch: 641/1000 ... Step: 0... Loss: 367.2574...\n",
      "Epoch: 646/1000 ... Step: 0... Loss: 360.3618...\n",
      "Epoch: 651/1000 ... Step: 0... Loss: 418.2037...\n",
      "Epoch: 656/1000 ... Step: 0... Loss: 347.4295...\n",
      "Epoch: 661/1000 ... Step: 0... Loss: 365.9134...\n",
      "Epoch: 666/1000 ... Step: 0... Loss: 378.2649...\n",
      "Epoch: 671/1000 ... Step: 0... Loss: 379.2010...\n",
      "Epoch: 676/1000 ... Step: 0... Loss: 396.2651...\n",
      "Epoch: 681/1000 ... Step: 0... Loss: 406.5799...\n",
      "Epoch: 686/1000 ... Step: 0... Loss: 380.0853...\n",
      "Epoch: 691/1000 ... Step: 0... Loss: 440.5091...\n",
      "Epoch: 696/1000 ... Step: 0... Loss: 351.4188...\n",
      "Epoch: 701/1000 ... Step: 0... Loss: 430.4448...\n",
      "Epoch: 706/1000 ... Step: 0... Loss: 375.6281...\n",
      "Epoch: 711/1000 ... Step: 0... Loss: 387.8817...\n",
      "Epoch: 716/1000 ... Step: 0... Loss: 368.9167...\n",
      "Epoch: 721/1000 ... Step: 0... Loss: 410.1217...\n",
      "Epoch: 726/1000 ... Step: 0... Loss: 375.9312...\n",
      "Epoch: 731/1000 ... Step: 0... Loss: 345.4197...\n",
      "Epoch: 736/1000 ... Step: 0... Loss: 390.6888...\n",
      "Epoch: 741/1000 ... Step: 0... Loss: 369.1880...\n",
      "Epoch: 746/1000 ... Step: 0... Loss: 375.1786...\n",
      "Epoch: 751/1000 ... Step: 0... Loss: 397.2570...\n",
      "Epoch: 756/1000 ... Step: 0... Loss: 360.3972...\n",
      "Epoch: 761/1000 ... Step: 0... Loss: 360.0110...\n",
      "Epoch: 766/1000 ... Step: 0... Loss: 329.9838...\n",
      "Epoch: 771/1000 ... Step: 0... Loss: 315.4839...\n",
      "Epoch: 776/1000 ... Step: 0... Loss: 457.5995...\n",
      "Epoch: 781/1000 ... Step: 0... Loss: 373.8431...\n",
      "Epoch: 786/1000 ... Step: 0... Loss: 398.7107...\n",
      "Epoch: 791/1000 ... Step: 0... Loss: 321.8803...\n",
      "Epoch: 796/1000 ... Step: 0... Loss: 346.3917...\n",
      "Epoch: 801/1000 ... Step: 0... Loss: 334.1004...\n",
      "Epoch: 806/1000 ... Step: 0... Loss: 360.8029...\n",
      "Epoch: 811/1000 ... Step: 0... Loss: 324.4929...\n",
      "Epoch: 816/1000 ... Step: 0... Loss: 372.1097...\n",
      "Epoch: 821/1000 ... Step: 0... Loss: 360.5481...\n",
      "Epoch: 826/1000 ... Step: 0... Loss: 441.9261...\n",
      "Epoch: 831/1000 ... Step: 0... Loss: 409.1337...\n",
      "Epoch: 836/1000 ... Step: 0... Loss: 377.5667...\n",
      "Epoch: 841/1000 ... Step: 0... Loss: 373.7497...\n",
      "Epoch: 846/1000 ... Step: 0... Loss: 346.4708...\n",
      "Epoch: 851/1000 ... Step: 0... Loss: 336.9244...\n",
      "Epoch: 856/1000 ... Step: 0... Loss: 403.4397...\n",
      "Epoch: 861/1000 ... Step: 0... Loss: 298.5053...\n",
      "Epoch: 866/1000 ... Step: 0... Loss: 430.6205...\n",
      "Epoch: 871/1000 ... Step: 0... Loss: 367.7935...\n",
      "Epoch: 876/1000 ... Step: 0... Loss: 365.2480...\n",
      "Epoch: 881/1000 ... Step: 0... Loss: 341.9632...\n",
      "Epoch: 886/1000 ... Step: 0... Loss: 319.0906...\n",
      "Epoch: 891/1000 ... Step: 0... Loss: 356.4653...\n",
      "Epoch: 896/1000 ... Step: 0... Loss: 350.1951...\n",
      "Epoch: 901/1000 ... Step: 0... Loss: 336.0174...\n",
      "Epoch: 906/1000 ... Step: 0... Loss: 300.1838...\n",
      "Epoch: 911/1000 ... Step: 0... Loss: 315.5709...\n",
      "Epoch: 916/1000 ... Step: 0... Loss: 378.6292...\n",
      "Epoch: 921/1000 ... Step: 0... Loss: 349.4060...\n",
      "Epoch: 926/1000 ... Step: 0... Loss: 401.8178...\n",
      "Epoch: 931/1000 ... Step: 0... Loss: 337.0576...\n",
      "Epoch: 936/1000 ... Step: 0... Loss: 335.7495...\n",
      "Epoch: 941/1000 ... Step: 0... Loss: 368.0661...\n",
      "Epoch: 946/1000 ... Step: 0... Loss: 341.9294...\n",
      "Epoch: 951/1000 ... Step: 0... Loss: 409.5641...\n",
      "Epoch: 956/1000 ... Step: 0... Loss: 298.4195...\n",
      "Epoch: 961/1000 ... Step: 0... Loss: 319.3893...\n",
      "Epoch: 966/1000 ... Step: 0... Loss: 283.5184...\n",
      "Epoch: 971/1000 ... Step: 0... Loss: 299.6848...\n",
      "Epoch: 976/1000 ... Step: 0... Loss: 314.8348...\n",
      "Epoch: 981/1000 ... Step: 0... Loss: 349.4991...\n",
      "Epoch: 986/1000 ... Step: 0... Loss: 339.8910...\n",
      "Epoch: 991/1000 ... Step: 0... Loss: 318.3404...\n",
      "Epoch: 996/1000 ... Step: 0... Loss: 309.7975...\n"
     ]
    }
   ],
   "source": [
    "net.train()\n",
    "# net.float()\n",
    "net.cuda()\n",
    "criterion = torch.nn.L1Loss(size_average=False)\n",
    "\n",
    "optimizer = torch.optim.Adam(net.parameters(), lr=learning_rate)\n",
    "\n",
    "epochs = 1000\n",
    "counter = 0\n",
    "clip = 5\n",
    "tr_ac = []\n",
    "val_losses = []\n",
    "vl_actr_ac = []\n",
    "val_losses = []\n",
    "vl_ac = []\n",
    "ee = -1\n",
    "\n",
    "\n",
    "for i in range(epochs):\n",
    "\n",
    "    #Initializing hidden state\n",
    "    hd = net.init_hidden(batch_size)\n",
    "    for batch_i, target_i in train_loader:\n",
    "\n",
    "\n",
    "\n",
    "        inputs, targets = batch_i.cuda(), target_i.cuda()\n",
    "\n",
    "        hd = tuple([each.data for each in hd])\n",
    "\n",
    "        net.zero_grad()\n",
    "\n",
    "        outputs, hd = net(inputs, hd)\n",
    "        loss = criterion(outputs, targets)\n",
    "        loss.backward()\n",
    "        nn.utils.clip_grad_norm_(net.parameters(), clip)\n",
    "        optimizer.step()\n",
    "\n",
    "        if i % 5 == 0:\n",
    "            net.eval()\n",
    "            val_h = net.init_hidden(batch_size)\n",
    "            \n",
    "\n",
    "            for batch_j, target_j in test_loader:\n",
    "\n",
    "                vinputs, vtargets = batch_j.cuda(), target_j.cuda()\n",
    "\n",
    "                val_h = tuple([each.data for each in val_h])\n",
    "\n",
    "                output_h, val_h = net(vinputs, val_h)\n",
    "                val_loss = criterion(output_h, vtargets)\n",
    "                val_losses.append(val_loss.item())\n",
    "            if ee != i:\n",
    "                ee = i \n",
    "                print(\"Epoch: {}/{} ...\".format(i+1, epochs),\n",
    "              \"Step: {}...\".format(counter),\n",
    "              \"Loss: {:.4f}...\".format(loss.item()))\n",
    "\n",
    "        net.train()\n",
    "\n"
   ]
  },
  {
   "cell_type": "code",
   "execution_count": 109,
   "metadata": {},
   "outputs": [],
   "source": [
    "model_name= 'Bonhwa.pt'\n",
    "torch.save(net.state_dict(),model_name)"
   ]
  },
  {
   "cell_type": "code",
   "execution_count": null,
   "metadata": {},
   "outputs": [],
   "source": [
    "the_model =  bonhwa_lstm(embedding_dim = 15, output_dim = 10, no_units = 524, n_layers = 2)\n",
    "the_model = torch.load('Bonhwa.pt')"
   ]
  },
  {
   "cell_type": "code",
   "execution_count": 117,
   "metadata": {},
   "outputs": [
    {
     "name": "stdout",
     "output_type": "stream",
     "text": [
      "torch.Size([100, 10])\n",
      "torch.Size([100, 10])\n",
      "torch.Size([21, 10])\n"
     ]
    }
   ],
   "source": [
    "for batch_j, target_j in test_loader:\n",
    "\n",
    "            vinputs, vtargets = batch_j.cuda(), target_j.cuda()\n",
    "\n",
    "            val_h = tuple([each.data for each in val_h])\n",
    "\n",
    "            output_h, val_h = net(vinputs, val_h)\n",
    "            loss = criterion(output_h, vtargets)\n",
    "            print(output_h.shape)"
   ]
  },
  {
   "cell_type": "markdown",
   "metadata": {},
   "source": [
    "### Loss, which is L1 loss, scaled as per batches"
   ]
  },
  {
   "cell_type": "code",
   "execution_count": 119,
   "metadata": {},
   "outputs": [
    {
     "data": {
      "text/plain": [
       "3.61708837890625"
      ]
     },
     "execution_count": 119,
     "metadata": {},
     "output_type": "execute_result"
    }
   ],
   "source": [
    "loss.cpu().detach().numpy()/1000"
   ]
  },
  {
   "cell_type": "code",
   "execution_count": 120,
   "metadata": {},
   "outputs": [],
   "source": [
    "output_h = output_h.cpu().detach().numpy()"
   ]
  },
  {
   "cell_type": "code",
   "execution_count": 121,
   "metadata": {},
   "outputs": [
    {
     "data": {
      "text/plain": [
       "(10,)"
      ]
     },
     "execution_count": 121,
     "metadata": {},
     "output_type": "execute_result"
    }
   ],
   "source": [
    "testy[-1].shape"
   ]
  },
  {
   "cell_type": "code",
   "execution_count": 122,
   "metadata": {},
   "outputs": [
    {
     "data": {
      "text/plain": [
       "(10,)"
      ]
     },
     "execution_count": 122,
     "metadata": {},
     "output_type": "execute_result"
    }
   ],
   "source": [
    "output_h[-1].shape"
   ]
  },
  {
   "cell_type": "code",
   "execution_count": 124,
   "metadata": {},
   "outputs": [
    {
     "data": {
      "text/plain": [
       "[<matplotlib.lines.Line2D at 0x7feb65392128>]"
      ]
     },
     "execution_count": 124,
     "metadata": {},
     "output_type": "execute_result"
    },
    {
     "data": {
      "image/png": "[encoded data removed]",
      "text/plain": [
       "<Figure size 432x288 with 1 Axes>"
      ]
     },
     "metadata": {
      "needs_background": "light"
     },
     "output_type": "display_data"
    }
   ],
   "source": [
    "plt.plot(testy[-1])\n",
    "plt.plot(output_h[-1]) #Plotting for 10 random samples"
   ]
  },
  {
   "cell_type": "code",
   "execution_count": null,
   "metadata": {},
   "outputs": [],
   "source": []
  }
 ],
 "metadata": {
  "kernelspec": {
   "display_name": "Python 3",
   "language": "python",
   "name": "python3"
  },
  "language_info": {
   "codemirror_mode": {
    "name": "ipython",
    "version": 3
   },
   "file_extension": ".py",
   "mimetype": "text/x-python",
   "name": "python",
   "nbconvert_exporter": "python",
   "pygments_lexer": "ipython3",
   "version": "3.5.6"
  }
 },
 "nbformat": 4,
 "nbformat_minor": 4
}
